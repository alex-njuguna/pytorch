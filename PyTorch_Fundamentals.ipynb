{
  "nbformat": 4,
  "nbformat_minor": 0,
  "metadata": {
    "colab": {
      "provenance": [],
      "toc_visible": true,
      "gpuType": "T4",
      "authorship_tag": "ABX9TyPGGaGBkYgP0Q2JXU0+CHwr",
      "include_colab_link": true
    },
    "kernelspec": {
      "name": "python3",
      "display_name": "Python 3"
    },
    "language_info": {
      "name": "python"
    }
  },
  "cells": [
    {
      "cell_type": "markdown",
      "metadata": {
        "id": "view-in-github",
        "colab_type": "text"
      },
      "source": [
        "<a href=\"https://colab.research.google.com/github/alex-njuguna/pytorch/blob/main/PyTorch_Fundamentals.ipynb\" target=\"_parent\"><img src=\"https://colab.research.google.com/assets/colab-badge.svg\" alt=\"Open In Colab\"/></a>"
      ]
    },
    {
      "cell_type": "code",
      "source": [
        "import torch"
      ],
      "metadata": {
        "id": "8wfFwLadIYyB"
      },
      "execution_count": 1,
      "outputs": []
    },
    {
      "cell_type": "markdown",
      "source": [
        "# Introduction to tensors"
      ],
      "metadata": {
        "id": "LHvhd5ZBreP2"
      }
    },
    {
      "cell_type": "markdown",
      "source": [
        "## Creating tensors"
      ],
      "metadata": {
        "id": "_K-5x1GYIH9U"
      }
    },
    {
      "cell_type": "markdown",
      "source": [
        "### Scalar"
      ],
      "metadata": {
        "id": "fsmeGeXTKUUT"
      }
    },
    {
      "cell_type": "code",
      "execution_count": null,
      "metadata": {
        "colab": {
          "base_uri": "https://localhost:8080/"
        },
        "id": "8Z_dVYC4H_Oo",
        "outputId": "2effc542-fd8f-4013-f9d9-79274b2b03b7"
      },
      "outputs": [
        {
          "output_type": "execute_result",
          "data": {
            "text/plain": [
              "tensor(7)"
            ]
          },
          "metadata": {},
          "execution_count": 2
        }
      ],
      "source": [
        "# Scalar\n",
        "scalar = torch.tensor(7)\n",
        "scalar"
      ]
    },
    {
      "cell_type": "code",
      "source": [
        "# Check the dimensions of the scalar tensor\n",
        "scalar.ndim"
      ],
      "metadata": {
        "colab": {
          "base_uri": "https://localhost:8080/"
        },
        "id": "qOARoh-PI3mk",
        "outputId": "88ad45e2-1204-4bd7-c8e1-08162c71ece3"
      },
      "execution_count": null,
      "outputs": [
        {
          "output_type": "execute_result",
          "data": {
            "text/plain": [
              "0"
            ]
          },
          "metadata": {},
          "execution_count": 3
        }
      ]
    },
    {
      "cell_type": "code",
      "source": [
        "# Get the number within the tensor to a python integer using item()\n",
        "scalar.item()"
      ],
      "metadata": {
        "colab": {
          "base_uri": "https://localhost:8080/"
        },
        "id": "gEMTYVMAI3u2",
        "outputId": "e7d329f6-ee29-4089-d153-f18eb09da22c"
      },
      "execution_count": null,
      "outputs": [
        {
          "output_type": "execute_result",
          "data": {
            "text/plain": [
              "7"
            ]
          },
          "metadata": {},
          "execution_count": 4
        }
      ]
    },
    {
      "cell_type": "markdown",
      "source": [
        "### Vector"
      ],
      "metadata": {
        "id": "rigkWuFWKaxn"
      }
    },
    {
      "cell_type": "code",
      "source": [
        "# Vector\n",
        "vector = torch.tensor([7, 7])\n",
        "vector"
      ],
      "metadata": {
        "colab": {
          "base_uri": "https://localhost:8080/"
        },
        "id": "ybmrwYgsJjfA",
        "outputId": "f004b093-d24f-41ca-a8dd-df89befdfdf7"
      },
      "execution_count": null,
      "outputs": [
        {
          "output_type": "execute_result",
          "data": {
            "text/plain": [
              "tensor([7, 7])"
            ]
          },
          "metadata": {},
          "execution_count": 5
        }
      ]
    },
    {
      "cell_type": "code",
      "source": [
        "# Check the nnumber of dimensions of a vector with ndim\n",
        "vector.ndim"
      ],
      "metadata": {
        "colab": {
          "base_uri": "https://localhost:8080/"
        },
        "id": "ZPoV8pFIJjjp",
        "outputId": "87e2b96a-7811-47af-fe16-4f9ff1ce70af"
      },
      "execution_count": null,
      "outputs": [
        {
          "output_type": "execute_result",
          "data": {
            "text/plain": [
              "1"
            ]
          },
          "metadata": {},
          "execution_count": 6
        }
      ]
    },
    {
      "cell_type": "code",
      "source": [
        "# Check the shape of a vector\n",
        "vector.shape"
      ],
      "metadata": {
        "colab": {
          "base_uri": "https://localhost:8080/"
        },
        "id": "E4s-B8z9Jjn8",
        "outputId": "35027229-887d-4936-f2f8-854748180359"
      },
      "execution_count": null,
      "outputs": [
        {
          "output_type": "execute_result",
          "data": {
            "text/plain": [
              "torch.Size([2])"
            ]
          },
          "metadata": {},
          "execution_count": 7
        }
      ]
    },
    {
      "cell_type": "markdown",
      "source": [
        "### Matrix"
      ],
      "metadata": {
        "id": "qAEbEGR2KgxN"
      }
    },
    {
      "cell_type": "code",
      "source": [
        "# Matrix\n",
        "MATRIX = torch.tensor([[7, 8],\n",
        "                       [9, 10]])\n",
        "MATRIX"
      ],
      "metadata": {
        "colab": {
          "base_uri": "https://localhost:8080/"
        },
        "id": "TS2dd6MLJjtD",
        "outputId": "df258676-d86f-4ad8-feae-c10335f8e571"
      },
      "execution_count": null,
      "outputs": [
        {
          "output_type": "execute_result",
          "data": {
            "text/plain": [
              "tensor([[ 7,  8],\n",
              "        [ 9, 10]])"
            ]
          },
          "metadata": {},
          "execution_count": 8
        }
      ]
    },
    {
      "cell_type": "code",
      "source": [
        "# Check number of dimensions\n",
        "MATRIX.ndim"
      ],
      "metadata": {
        "colab": {
          "base_uri": "https://localhost:8080/"
        },
        "id": "ujINpsnEI31s",
        "outputId": "b41f75b0-0d56-417e-ffbb-f5263b19d6aa"
      },
      "execution_count": null,
      "outputs": [
        {
          "output_type": "execute_result",
          "data": {
            "text/plain": [
              "2"
            ]
          },
          "metadata": {},
          "execution_count": 9
        }
      ]
    },
    {
      "cell_type": "code",
      "source": [
        "MATRIX.shape"
      ],
      "metadata": {
        "colab": {
          "base_uri": "https://localhost:8080/"
        },
        "id": "RxUbhisuI3_u",
        "outputId": "579b369b-2b1e-4410-e5aa-33661be4c3f1"
      },
      "execution_count": null,
      "outputs": [
        {
          "output_type": "execute_result",
          "data": {
            "text/plain": [
              "torch.Size([2, 2])"
            ]
          },
          "metadata": {},
          "execution_count": 10
        }
      ]
    },
    {
      "cell_type": "markdown",
      "source": [
        "### Tensor"
      ],
      "metadata": {
        "id": "fG3xA0GfLWat"
      }
    },
    {
      "cell_type": "code",
      "source": [
        "# Tensor\n",
        "TENSOR = torch.tensor([[[1, 2, 3],\n",
        "                        [3, 6, 9],\n",
        "                        [2, 4, 5]]])\n",
        "TENSOR"
      ],
      "metadata": {
        "colab": {
          "base_uri": "https://localhost:8080/"
        },
        "id": "I_-__0e7LW3D",
        "outputId": "5e02ea78-e9f5-4b74-a304-ff0720592646"
      },
      "execution_count": null,
      "outputs": [
        {
          "output_type": "execute_result",
          "data": {
            "text/plain": [
              "tensor([[[1, 2, 3],\n",
              "         [3, 6, 9],\n",
              "         [2, 4, 5]]])"
            ]
          },
          "metadata": {},
          "execution_count": 11
        }
      ]
    },
    {
      "cell_type": "code",
      "source": [
        "# Check number of dimensions for TENSOR\n",
        "TENSOR.ndim"
      ],
      "metadata": {
        "colab": {
          "base_uri": "https://localhost:8080/"
        },
        "id": "8OqqVL-rLW-f",
        "outputId": "56787775-3985-4147-c175-dbbadcbcc0ae"
      },
      "execution_count": null,
      "outputs": [
        {
          "output_type": "execute_result",
          "data": {
            "text/plain": [
              "3"
            ]
          },
          "metadata": {},
          "execution_count": 12
        }
      ]
    },
    {
      "cell_type": "code",
      "source": [
        "# Check shape of a tensor\n",
        "TENSOR.shape"
      ],
      "metadata": {
        "colab": {
          "base_uri": "https://localhost:8080/"
        },
        "id": "2YuqTmtgLXEU",
        "outputId": "36573d1e-0912-49e9-bda3-538ad230ada3"
      },
      "execution_count": null,
      "outputs": [
        {
          "output_type": "execute_result",
          "data": {
            "text/plain": [
              "torch.Size([1, 3, 3])"
            ]
          },
          "metadata": {},
          "execution_count": 13
        }
      ]
    },
    {
      "cell_type": "markdown",
      "source": [
        "## Random tensors"
      ],
      "metadata": {
        "id": "uvoIZYG7g2Zm"
      }
    },
    {
      "cell_type": "code",
      "source": [
        "random_tensor = torch.rand(size=(3, 4))\n",
        "random_tensor, random_tensor.dtype"
      ],
      "metadata": {
        "colab": {
          "base_uri": "https://localhost:8080/"
        },
        "id": "wUnRQstzhUvE",
        "outputId": "8736d890-2eed-4aea-fbb9-4c4341d4e0d6"
      },
      "execution_count": null,
      "outputs": [
        {
          "output_type": "execute_result",
          "data": {
            "text/plain": [
              "(tensor([[0.0756, 0.8041, 0.3294, 0.5981],\n",
              "         [0.1082, 0.1464, 0.8585, 0.0835],\n",
              "         [0.9330, 0.5101, 0.2188, 0.8576]]),\n",
              " torch.float32)"
            ]
          },
          "metadata": {},
          "execution_count": 15
        }
      ]
    },
    {
      "cell_type": "code",
      "source": [
        "random_image_size_tensor = torch.rand(size=(224, 224, 3))\n",
        "random_image_size_tensor.shape, random_image_size_tensor.ndim"
      ],
      "metadata": {
        "colab": {
          "base_uri": "https://localhost:8080/"
        },
        "id": "XCiDsurWhU7u",
        "outputId": "09d358bb-b20a-4f20-9d23-54029ba5ac35"
      },
      "execution_count": null,
      "outputs": [
        {
          "output_type": "execute_result",
          "data": {
            "text/plain": [
              "(torch.Size([224, 224, 3]), 3)"
            ]
          },
          "metadata": {},
          "execution_count": 18
        }
      ]
    },
    {
      "cell_type": "markdown",
      "source": [
        "## Zeros and ones"
      ],
      "metadata": {
        "id": "Gr5rzJtskin8"
      }
    },
    {
      "cell_type": "code",
      "source": [
        "\"\"\"Filling tensors with zeroes - this happens when you want the model not to run them\"\"\""
      ],
      "metadata": {
        "id": "_MJPUWDEkpA4"
      },
      "execution_count": null,
      "outputs": []
    },
    {
      "cell_type": "code",
      "source": [
        "# Create a tensor of zeros\n",
        "zeros = torch.zeros(size=(3, 4))\n",
        "zeros, zeros.dtype"
      ],
      "metadata": {
        "colab": {
          "base_uri": "https://localhost:8080/"
        },
        "id": "v328Scq1kpKB",
        "outputId": "6e4aa618-3d21-4f36-8a11-3f8f06ba916e"
      },
      "execution_count": null,
      "outputs": [
        {
          "output_type": "execute_result",
          "data": {
            "text/plain": [
              "(tensor([[0., 0., 0., 0.],\n",
              "         [0., 0., 0., 0.],\n",
              "         [0., 0., 0., 0.]]),\n",
              " torch.float32)"
            ]
          },
          "metadata": {},
          "execution_count": 20
        }
      ]
    },
    {
      "cell_type": "code",
      "source": [
        "# Create a tensor of ones\n",
        "ones = torch.ones(size=(3, 4))\n",
        "ones, ones.dtype"
      ],
      "metadata": {
        "colab": {
          "base_uri": "https://localhost:8080/"
        },
        "id": "nQfY5s3ykpaJ",
        "outputId": "b3dfcb61-0096-4fea-9491-909ffaacda58"
      },
      "execution_count": null,
      "outputs": [
        {
          "output_type": "execute_result",
          "data": {
            "text/plain": [
              "(tensor([[1., 1., 1., 1.],\n",
              "         [1., 1., 1., 1.],\n",
              "         [1., 1., 1., 1.]]),\n",
              " torch.float32)"
            ]
          },
          "metadata": {},
          "execution_count": 21
        }
      ]
    },
    {
      "cell_type": "markdown",
      "source": [
        "## Creating a range and tensors like"
      ],
      "metadata": {
        "id": "iP43MC5vhBLM"
      }
    },
    {
      "cell_type": "code",
      "source": [
        "\"\"\"Use torch.arange(start, stop, step), using range() is deprecated and may output an error\"\"\""
      ],
      "metadata": {
        "id": "jTw7mUfwl_Fw"
      },
      "execution_count": null,
      "outputs": []
    },
    {
      "cell_type": "code",
      "source": [
        "# zero_to_ten_deprecated = torch.range(0, 10)\n",
        "# zero_to_ten_deprecated\n",
        "zero_to_ten = torch.arange(0, 10)\n",
        "zero_to_ten"
      ],
      "metadata": {
        "colab": {
          "base_uri": "https://localhost:8080/"
        },
        "id": "wI55GrU4l_Po",
        "outputId": "39ccb31a-692c-48a6-8922-f057cce669e5"
      },
      "execution_count": null,
      "outputs": [
        {
          "output_type": "execute_result",
          "data": {
            "text/plain": [
              "tensor([0, 1, 2, 3, 4, 5, 6, 7, 8, 9])"
            ]
          },
          "metadata": {},
          "execution_count": 24
        }
      ]
    },
    {
      "cell_type": "markdown",
      "source": [
        "To have a tensor of similar shape like a previous tensor with **zeros** or **ones** you can use **torch.zeros_like(input)** and **torch.ones_like(input)** which return a tensor filled with zeros or ones respectively"
      ],
      "metadata": {
        "id": "aLmB0Tt0m70u"
      }
    },
    {
      "cell_type": "code",
      "source": [
        "# Create a tensor of zeros similar to a previous tensor\n",
        "ten_zeros = torch.zeros_like(input=zero_to_ten)\n",
        "ten_zeros"
      ],
      "metadata": {
        "colab": {
          "base_uri": "https://localhost:8080/"
        },
        "id": "yStfRRvrm8ER",
        "outputId": "67d13cbe-30a3-4280-c557-a384e3564994"
      },
      "execution_count": null,
      "outputs": [
        {
          "output_type": "execute_result",
          "data": {
            "text/plain": [
              "tensor([0, 0, 0, 0, 0, 0, 0, 0, 0, 0])"
            ]
          },
          "metadata": {},
          "execution_count": 26
        }
      ]
    },
    {
      "cell_type": "markdown",
      "source": [
        "## Tensor datatypes"
      ],
      "metadata": {
        "id": "Mw__OgVfoKYx"
      }
    },
    {
      "cell_type": "code",
      "source": [
        "# Default datatype of tensor is float32\n",
        "float_32_tensor = torch.tensor([3.0, 6.0, 9.0],\n",
        "                               dtype=None, # defaults to none, whic is float32 or whatever datatype was passed,\n",
        "                               device=None, # defaults to none, which uses the the default tensor type,\n",
        "                               requires_grad=False) #If true operations perfomed on the tensor are recorded\n",
        "float_32_tensor.shape, float_32_tensor.dtype, float_32_tensor.device"
      ],
      "metadata": {
        "colab": {
          "base_uri": "https://localhost:8080/"
        },
        "id": "SDxx__EMm8Ii",
        "outputId": "9f5f503e-8229-4c71-f1e1-a2c2d254f5c7"
      },
      "execution_count": null,
      "outputs": [
        {
          "output_type": "execute_result",
          "data": {
            "text/plain": [
              "(torch.Size([3]), torch.float32, device(type='cpu'))"
            ]
          },
          "metadata": {},
          "execution_count": 28
        }
      ]
    },
    {
      "cell_type": "code",
      "source": [
        "# Create a tensor with dtype=torch.float_16\n",
        "float_16_tensor = torch.tensor([3.0, 9.0, 7.8],\n",
        "                               dtype=torch.float16)\n",
        "float_16_tensor.dtype"
      ],
      "metadata": {
        "colab": {
          "base_uri": "https://localhost:8080/"
        },
        "id": "WpClpQ4Em8NU",
        "outputId": "7c7ff215-f32b-41b7-d4c5-5a02bbad1dc0"
      },
      "execution_count": null,
      "outputs": [
        {
          "output_type": "execute_result",
          "data": {
            "text/plain": [
              "torch.float16"
            ]
          },
          "metadata": {},
          "execution_count": 29
        }
      ]
    },
    {
      "cell_type": "markdown",
      "source": [
        "# Getting information from tensors"
      ],
      "metadata": {
        "id": "98y0PDK15xJK"
      }
    },
    {
      "cell_type": "code",
      "source": [
        "# Create a tensor\n",
        "some_tensor = torch.rand(3, 4)\n",
        "\n",
        "# Find details about the above tensor\n",
        "print(some_tensor)\n",
        "print(f\"shape of the tensor: {some_tensor.shape}\")\n",
        "print(f\"Data type of the tensor: {some_tensor.dtype}\")\n",
        "print(f\"Device tensor is stored on: {some_tensor.device}\") # defaults to cpu"
      ],
      "metadata": {
        "colab": {
          "base_uri": "https://localhost:8080/"
        },
        "id": "E60p-6I554ax",
        "outputId": "ddc2a3fa-dd3b-4366-993e-cfc9a222cf81"
      },
      "execution_count": null,
      "outputs": [
        {
          "output_type": "stream",
          "name": "stdout",
          "text": [
            "tensor([[0.5294, 0.6879, 0.6389, 0.4836],\n",
            "        [0.4644, 0.6100, 0.5182, 0.0836],\n",
            "        [0.2640, 0.4117, 0.6885, 0.1602]])\n",
            "shape of the tensor: torch.Size([3, 4])\n",
            "Data type of the tensor: torch.float32\n",
            "Device tensor is stored on: cpu\n"
          ]
        }
      ]
    },
    {
      "cell_type": "markdown",
      "source": [
        "# Manipulating tensors(tensor operations)"
      ],
      "metadata": {
        "id": "Vg3fMdGa66z-"
      }
    },
    {
      "cell_type": "markdown",
      "source": [
        "operations - addition, substraction, multiplication, division and Matrix multiplication"
      ],
      "metadata": {
        "id": "q5ATq25P7JWh"
      }
    },
    {
      "cell_type": "markdown",
      "source": [
        "## Basic operations"
      ],
      "metadata": {
        "id": "v7haszFF7aAo"
      }
    },
    {
      "cell_type": "code",
      "source": [
        "# Create a tensor of values and add a number to it\n",
        "tensor = torch.tensor([1, 2, 3])\n",
        "tensor + 10"
      ],
      "metadata": {
        "colab": {
          "base_uri": "https://localhost:8080/"
        },
        "id": "YBqGxQuk54nO",
        "outputId": "b042772e-8648-4697-c4eb-1a72caf88426"
      },
      "execution_count": null,
      "outputs": [
        {
          "output_type": "execute_result",
          "data": {
            "text/plain": [
              "tensor([11, 12, 13])"
            ]
          },
          "metadata": {},
          "execution_count": 31
        }
      ]
    },
    {
      "cell_type": "code",
      "source": [
        "# Multiply it by 10\n",
        "tensor * 10"
      ],
      "metadata": {
        "colab": {
          "base_uri": "https://localhost:8080/"
        },
        "id": "UPGB_hN67zBK",
        "outputId": "1f8618dd-9fb8-460a-b121-e83508c9dabb"
      },
      "execution_count": null,
      "outputs": [
        {
          "output_type": "execute_result",
          "data": {
            "text/plain": [
              "tensor([10, 20, 30])"
            ]
          },
          "metadata": {},
          "execution_count": 32
        }
      ]
    },
    {
      "cell_type": "code",
      "source": [
        "# tensors don't change unless they are reassigned\n",
        "tensor"
      ],
      "metadata": {
        "colab": {
          "base_uri": "https://localhost:8080/"
        },
        "id": "ZqlX7sLu7zIP",
        "outputId": "2206509e-4fad-40a1-a6ed-b7420c7b393a"
      },
      "execution_count": null,
      "outputs": [
        {
          "output_type": "execute_result",
          "data": {
            "text/plain": [
              "tensor([1, 2, 3])"
            ]
          },
          "metadata": {},
          "execution_count": 33
        }
      ]
    },
    {
      "cell_type": "code",
      "source": [
        "# Subtract and reassign\n",
        "tensor = tensor - 10\n",
        "tensor"
      ],
      "metadata": {
        "colab": {
          "base_uri": "https://localhost:8080/"
        },
        "id": "D9Hm_ZS17zaU",
        "outputId": "62b7302d-f619-41a5-91c5-7256473662da"
      },
      "execution_count": null,
      "outputs": [
        {
          "output_type": "execute_result",
          "data": {
            "text/plain": [
              "tensor([-9, -8, -7])"
            ]
          },
          "metadata": {},
          "execution_count": 34
        }
      ]
    },
    {
      "cell_type": "code",
      "source": [
        "# Add and reassign\n",
        "tensor = tensor + 10\n",
        "tensor"
      ],
      "metadata": {
        "colab": {
          "base_uri": "https://localhost:8080/"
        },
        "id": "nODbItl88pEi",
        "outputId": "e3d6404c-a7f1-4a35-96b3-491c4c4a4ee9"
      },
      "execution_count": null,
      "outputs": [
        {
          "output_type": "execute_result",
          "data": {
            "text/plain": [
              "tensor([1, 2, 3])"
            ]
          },
          "metadata": {},
          "execution_count": 35
        }
      ]
    },
    {
      "cell_type": "markdown",
      "source": [
        "PyTorch also has built-in functions like **torch.mul()** and **torch.add()** to perform basic operations"
      ],
      "metadata": {
        "id": "VBAQqoJJ84U2"
      }
    },
    {
      "cell_type": "code",
      "source": [
        "# Can also use torch functions\n",
        "torch.mul(tensor, 10)"
      ],
      "metadata": {
        "colab": {
          "base_uri": "https://localhost:8080/"
        },
        "id": "8wBynJAJ8pJZ",
        "outputId": "f19072bd-11db-43b3-bace-ea14e71256d9"
      },
      "execution_count": null,
      "outputs": [
        {
          "output_type": "execute_result",
          "data": {
            "text/plain": [
              "tensor([10, 20, 30])"
            ]
          },
          "metadata": {},
          "execution_count": 37
        }
      ]
    },
    {
      "cell_type": "code",
      "source": [
        "tensor"
      ],
      "metadata": {
        "colab": {
          "base_uri": "https://localhost:8080/"
        },
        "id": "Yxr__3eL8pNt",
        "outputId": "b3506a13-8a20-4d92-cb59-573cec8a5c96"
      },
      "execution_count": null,
      "outputs": [
        {
          "output_type": "execute_result",
          "data": {
            "text/plain": [
              "tensor([1, 2, 3])"
            ]
          },
          "metadata": {},
          "execution_count": 38
        }
      ]
    },
    {
      "cell_type": "code",
      "source": [
        "# multiplying two tensors with an operator\n",
        "print(f\"{tensor} * {tensor} equals: {tensor * tensor}\")"
      ],
      "metadata": {
        "colab": {
          "base_uri": "https://localhost:8080/"
        },
        "id": "Zalbugc09cKl",
        "outputId": "970d20fd-b4c0-48bb-fa40-2fe626b65729"
      },
      "execution_count": null,
      "outputs": [
        {
          "output_type": "stream",
          "name": "stdout",
          "text": [
            "tensor([1, 2, 3]) * tensor([1, 2, 3]) equals: tensor([1, 4, 9])\n"
          ]
        }
      ]
    },
    {
      "cell_type": "markdown",
      "source": [
        "## Matrix multiplication"
      ],
      "metadata": {
        "id": "9HVubf8b-JCY"
      }
    },
    {
      "cell_type": "markdown",
      "source": [
        "use **torch.matmul()** method\n",
        "\n",
        "__Rules__\n",
        "- The inner dimensions must match\n",
        "- The resulting matrix has the shape of the outer dimensions\n",
        "- @ in python is the symbol of matrix multiplication"
      ],
      "metadata": {
        "id": "oO59hT2E-Vbg"
      }
    },
    {
      "cell_type": "markdown",
      "source": [
        "1. Elemen-wise multiplication [1x1, 2x2, 3x3] = [1, 4, 9]\n",
        "2. Matrix Multiplication [1X1 + 2X2 + 3x3] = [13]"
      ],
      "metadata": {
        "id": "CchdNrI7_SAN"
      }
    },
    {
      "cell_type": "code",
      "source": [
        "tensor = torch.tensor([1, 2, 3])\n",
        "tensor"
      ],
      "metadata": {
        "colab": {
          "base_uri": "https://localhost:8080/"
        },
        "id": "DxakYdej9cTN",
        "outputId": "27b40227-90ac-42b3-c918-61298511a7a9"
      },
      "execution_count": null,
      "outputs": [
        {
          "output_type": "execute_result",
          "data": {
            "text/plain": [
              "tensor([1, 2, 3])"
            ]
          },
          "metadata": {},
          "execution_count": 40
        }
      ]
    },
    {
      "cell_type": "code",
      "source": [
        "# Element-wise matrix multiplication\n",
        "tensor * tensor"
      ],
      "metadata": {
        "colab": {
          "base_uri": "https://localhost:8080/"
        },
        "id": "0ujfSjKf9ckk",
        "outputId": "b61448a6-6ae9-46f0-f2a9-7d52910f069e"
      },
      "execution_count": null,
      "outputs": [
        {
          "output_type": "execute_result",
          "data": {
            "text/plain": [
              "tensor([1, 4, 9])"
            ]
          },
          "metadata": {},
          "execution_count": 41
        }
      ]
    },
    {
      "cell_type": "code",
      "source": [
        "# Matrix multiplication\n",
        "torch.matmul(tensor, tensor)"
      ],
      "metadata": {
        "colab": {
          "base_uri": "https://localhost:8080/"
        },
        "id": "KR2Ib9G8AWp_",
        "outputId": "5ad7c63c-922d-4084-921c-991cb7be93f9"
      },
      "execution_count": null,
      "outputs": [
        {
          "output_type": "execute_result",
          "data": {
            "text/plain": [
              "tensor(14)"
            ]
          },
          "metadata": {},
          "execution_count": 42
        }
      ]
    },
    {
      "cell_type": "markdown",
      "source": [
        "# One of the most common errors in deep learning(shape errors)"
      ],
      "metadata": {
        "id": "IMopsQgvON1J"
      }
    },
    {
      "cell_type": "code",
      "source": [
        "# shapes need to be in the right way\n",
        "tensor_A = torch.tensor([[1, 2],\n",
        "                         [3, 4],\n",
        "                         [5, 6]], dtype=torch.float32)\n",
        "tensor_B = torch.tensor([[7, 10],\n",
        "                         [8, 11],\n",
        "                         [9, 12]], dtype=torch.float32)\n",
        "# torch.matmul(tensor_A, tensor_B)"
      ],
      "metadata": {
        "id": "2SRom7tlOa51"
      },
      "execution_count": null,
      "outputs": []
    },
    {
      "cell_type": "markdown",
      "source": [
        "we can make matrix multiplication between tensor_A and tensor_B possible through making their inner dimensions math. i.e. using **transpose**(_switch the dimensions of a given tensor_)\n",
        "\n",
        "**Perform tansponses with pytorch either:**\n",
        "- `torch.transpose(input, dim0, dim1)` - where `input` is the desired tensor to transpose and `dim0` and `dim1` are the dimensions to be swapped.\n",
        "- `tensor.T` - where `tensor` is the desired tensor to transpose"
      ],
      "metadata": {
        "id": "giU4MucJPZnW"
      }
    },
    {
      "cell_type": "code",
      "source": [
        "print(tensor_A)\n",
        "print(tensor_B)"
      ],
      "metadata": {
        "colab": {
          "base_uri": "https://localhost:8080/"
        },
        "id": "DjtX4WLYPWvs",
        "outputId": "13aad924-7a87-4001-999c-8a7d586cae72"
      },
      "execution_count": null,
      "outputs": [
        {
          "output_type": "stream",
          "name": "stdout",
          "text": [
            "tensor([[1., 2.],\n",
            "        [3., 4.],\n",
            "        [5., 6.]])\n",
            "tensor([[ 7., 10.],\n",
            "        [ 8., 11.],\n",
            "        [ 9., 12.]])\n"
          ]
        }
      ]
    },
    {
      "cell_type": "code",
      "source": [
        "# view tensor_A and tensor_B.T\n",
        "print(tensor_A)\n",
        "print(tensor_B.T)"
      ],
      "metadata": {
        "colab": {
          "base_uri": "https://localhost:8080/"
        },
        "id": "CRoODOvYPW52",
        "outputId": "8b82b4e1-bc08-4b93-a014-e6e79f76fe84"
      },
      "execution_count": null,
      "outputs": [
        {
          "output_type": "stream",
          "name": "stdout",
          "text": [
            "tensor([[1., 2.],\n",
            "        [3., 4.],\n",
            "        [5., 6.]])\n",
            "tensor([[ 7.,  8.,  9.],\n",
            "        [10., 11., 12.]])\n"
          ]
        }
      ]
    },
    {
      "cell_type": "code",
      "source": [
        "# the torch.matmul(tensor_A, tensor_B) works when tensor_B is transposed\n",
        "print(f\"Original shapes:\\ntensor_A: {tensor_A.shape}\\ntensor_B: {tensor_B.shape}\")\n",
        "print(f\"New shapes:\\ntensor_A: {tensor_A.shape}\\ntensor_B.T: {tensor_B.T.shape}\")\n",
        "print(f\"Multiplying: {tensor_A.shape} * {tensor_B.T.shape}--->\")\n",
        "print()\n",
        "output = torch.matmul(tensor_A, tensor_B.T)\n",
        "print(output)\n",
        "print(f\"\\noutput shape:\\n{output.shape}\")"
      ],
      "metadata": {
        "colab": {
          "base_uri": "https://localhost:8080/"
        },
        "id": "mErhHRljObAg",
        "outputId": "c9155318-7702-4d66-80be-896f085ab005"
      },
      "execution_count": null,
      "outputs": [
        {
          "output_type": "stream",
          "name": "stdout",
          "text": [
            "Original shapes:\n",
            "tensor_A: torch.Size([3, 2])\n",
            "tensor_B: torch.Size([3, 2])\n",
            "New shapes:\n",
            "tensor_A: torch.Size([3, 2])\n",
            "tensor_B.T: torch.Size([2, 3])\n",
            "Multiplying: torch.Size([3, 2]) * torch.Size([2, 3])--->\n",
            "\n",
            "tensor([[ 27.,  30.,  33.],\n",
            "        [ 61.,  68.,  75.],\n",
            "        [ 95., 106., 117.]])\n",
            "\n",
            "output shape:\n",
            "torch.Size([3, 3])\n"
          ]
        }
      ]
    },
    {
      "cell_type": "code",
      "source": [
        "# torch.mm is a shortcut for torch.matmul\n",
        "torch.mm(tensor_A, tensor_B.T)"
      ],
      "metadata": {
        "colab": {
          "base_uri": "https://localhost:8080/"
        },
        "id": "g042lbgFTKLc",
        "outputId": "4cd98911-45b7-4b0d-a5e2-554ca98892fe"
      },
      "execution_count": null,
      "outputs": [
        {
          "output_type": "execute_result",
          "data": {
            "text/plain": [
              "tensor([[ 27.,  30.,  33.],\n",
              "        [ 61.,  68.,  75.],\n",
              "        [ 95., 106., 117.]])"
            ]
          },
          "metadata": {},
          "execution_count": 49
        }
      ]
    },
    {
      "cell_type": "markdown",
      "source": [
        "## Finding the min, max, mean, sum, etc (aggregation)"
      ],
      "metadata": {
        "id": "12PYp8PHT7S2"
      }
    },
    {
      "cell_type": "code",
      "source": [
        "x = torch.arange(0, 100, 10)\n",
        "x"
      ],
      "metadata": {
        "id": "pB_mRSQVTKYx",
        "outputId": "d492f736-0a83-48ca-bae4-e5e10b155516",
        "colab": {
          "base_uri": "https://localhost:8080/"
        }
      },
      "execution_count": null,
      "outputs": [
        {
          "output_type": "execute_result",
          "data": {
            "text/plain": [
              "tensor([ 0, 10, 20, 30, 40, 50, 60, 70, 80, 90])"
            ]
          },
          "metadata": {},
          "execution_count": 2
        }
      ]
    },
    {
      "cell_type": "code",
      "source": [
        "print(f\"Minimum: {x.min()}\")\n",
        "print(f\"Maximun: {x.max()}\")\n",
        "print(f\"Average: {x.type(torch.float32).mean()}\")\n",
        "print(f\"Sum: {x.sum()}\")"
      ],
      "metadata": {
        "id": "20xLnWEKDgG_",
        "outputId": "e7472d9d-3caf-4ca3-839c-eb40cd809b1f",
        "colab": {
          "base_uri": "https://localhost:8080/"
        }
      },
      "execution_count": null,
      "outputs": [
        {
          "output_type": "stream",
          "name": "stdout",
          "text": [
            "Minimum: 0\n",
            "Maximun: 90\n",
            "Average: 45.0\n",
            "Sum: 450\n"
          ]
        }
      ]
    },
    {
      "cell_type": "markdown",
      "source": [
        "## Positional min/max"
      ],
      "metadata": {
        "id": "4E3cTCCCERfN"
      }
    },
    {
      "cell_type": "markdown",
      "source": [
        "find the position or index of a tennsor  where the max or min occurs using **torch.argmax()** and **torch.argmin()** respectively"
      ],
      "metadata": {
        "id": "u6kiU7qbEbf6"
      }
    },
    {
      "cell_type": "code",
      "source": [
        "# Create a tensor\n",
        "tensor = torch.arange(10, 100, 10)\n",
        "print(f\"Tensor: {tensor}\")\n",
        "print(f\"Index where max value occurs: {tensor.argmax()}\")\n",
        "print(f\"Index where min value occurs: {tensor.argmin()}\")"
      ],
      "metadata": {
        "id": "mmG0p2VRDgMu",
        "outputId": "6bbc1d5a-3dcc-435a-fb8b-5ba7c895938e",
        "colab": {
          "base_uri": "https://localhost:8080/"
        }
      },
      "execution_count": null,
      "outputs": [
        {
          "output_type": "stream",
          "name": "stdout",
          "text": [
            "Tensor: tensor([10, 20, 30, 40, 50, 60, 70, 80, 90])\n",
            "Index where max value occurs: 8\n",
            "Index where min value occurs: 0\n"
          ]
        }
      ]
    },
    {
      "cell_type": "markdown",
      "source": [
        "## Change tensor data type"
      ],
      "metadata": {
        "id": "bFrRcSNNFahv"
      }
    },
    {
      "cell_type": "markdown",
      "source": [
        "The data type of a tensor can be changed using **torch.Tensor.type(dtype=None)** where *dtype* is the data type you would like to use"
      ],
      "metadata": {
        "id": "Jw07V5o2Fjzu"
      }
    },
    {
      "cell_type": "code",
      "source": [
        "# Create a tensor and check its data type\n",
        "tensor = torch.arange(10., 100., 10.)\n",
        "tensor.dtype"
      ],
      "metadata": {
        "id": "bfJ-gdYEDgTG",
        "outputId": "713af17a-1325-4e8d-d9c9-980f05bdce26",
        "colab": {
          "base_uri": "https://localhost:8080/"
        }
      },
      "execution_count": null,
      "outputs": [
        {
          "output_type": "execute_result",
          "data": {
            "text/plain": [
              "torch.float32"
            ]
          },
          "metadata": {},
          "execution_count": 10
        }
      ]
    },
    {
      "cell_type": "code",
      "source": [
        "# Create a float16 tensor\n",
        "tensor_float16 = tensor.type(torch.float16)\n",
        "tensor_float16.dtype, tensor_float16"
      ],
      "metadata": {
        "id": "pcFTiIWZGV3s",
        "outputId": "094a6b46-169b-4345-e445-647ea024c032",
        "colab": {
          "base_uri": "https://localhost:8080/"
        }
      },
      "execution_count": null,
      "outputs": [
        {
          "output_type": "execute_result",
          "data": {
            "text/plain": [
              "(torch.float16,\n",
              " tensor([10., 20., 30., 40., 50., 60., 70., 80., 90.], dtype=torch.float16))"
            ]
          },
          "metadata": {},
          "execution_count": 11
        }
      ]
    },
    {
      "cell_type": "code",
      "source": [
        "# Create an int8 tensor\n",
        "tensor_int8 = tensor.type(torch.int8)\n",
        "tensor_int8"
      ],
      "metadata": {
        "id": "cdbgz-x3GWBO",
        "outputId": "b2b0d609-a4ad-466f-be2d-005d4fbb95ba",
        "colab": {
          "base_uri": "https://localhost:8080/"
        }
      },
      "execution_count": null,
      "outputs": [
        {
          "output_type": "execute_result",
          "data": {
            "text/plain": [
              "tensor([10, 20, 30, 40, 50, 60, 70, 80, 90], dtype=torch.int8)"
            ]
          },
          "metadata": {},
          "execution_count": 12
        }
      ]
    },
    {
      "cell_type": "markdown",
      "source": [
        "## Reshaping, stacking, squeezing and unsqueezing"
      ],
      "metadata": {
        "id": "ledgE6BWHj2q"
      }
    },
    {
      "cell_type": "markdown",
      "source": [
        "Reshaping or changing the dimensions of tensors is often needed without changing the values inside the tensors.\n",
        "Some popular methods are:\n",
        "1. torch.reshape(input, shape) - Reshapes input to shape *(if compatible)*, can also use `torch.Tensor.reshape()`\n",
        "2. Tensor.view(shape) - Returns a view of the original tensor in a different `shape` but the data is not altered.\n",
        "3. torch.stack(tensors, dim=0) - Concantenates a sequence of tensors along a new dimension `(dim)`, all tensors have to be of a smilar size.\n",
        "4. torch.squeeze(input) - Squeezes `input` to remove all the dimensions with the value 1.\n",
        "5. torch.unsqueeze(input, dim) - Return `input` with a dimension of 1 added at `dim`.\n",
        "6. torch.permute(input, dims) - Returns a view of the original input with its dimensions permutted(rearranged) to `dims`."
      ],
      "metadata": {
        "id": "6cxAjbW-dsgC"
      }
    },
    {
      "cell_type": "code",
      "source": [
        "# create a tensor\n",
        "x = torch.arange(1., 8.)\n",
        "x, x.shape"
      ],
      "metadata": {
        "id": "Xg0KUXgSHkUu",
        "outputId": "464b27f6-098d-483a-b098-2a30403d1530",
        "colab": {
          "base_uri": "https://localhost:8080/"
        }
      },
      "execution_count": null,
      "outputs": [
        {
          "output_type": "execute_result",
          "data": {
            "text/plain": [
              "(tensor([1., 2., 3., 4., 5., 6., 7.]), torch.Size([7]))"
            ]
          },
          "metadata": {},
          "execution_count": 13
        }
      ]
    },
    {
      "cell_type": "code",
      "source": [
        "# Add an extra dimension\n",
        "x_reshaped = x.reshape(1, 7)\n",
        "x_reshaped, x_reshaped.shape"
      ],
      "metadata": {
        "id": "FFNbbTEEHkgI",
        "outputId": "33cf822f-01fe-476d-853b-b669f45b3509",
        "colab": {
          "base_uri": "https://localhost:8080/"
        }
      },
      "execution_count": null,
      "outputs": [
        {
          "output_type": "execute_result",
          "data": {
            "text/plain": [
              "(tensor([[1., 2., 3., 4., 5., 6., 7.]]), torch.Size([1, 7]))"
            ]
          },
          "metadata": {},
          "execution_count": 14
        }
      ]
    },
    {
      "cell_type": "markdown",
      "source": [
        "# Indexing (selecting data from tensors)"
      ],
      "metadata": {
        "id": "OoV-nCKKbzMD"
      }
    },
    {
      "cell_type": "code",
      "source": [
        "x = torch.arange(1, 10).reshape(1, 3, 3)\n",
        "x, x.shape"
      ],
      "metadata": {
        "colab": {
          "base_uri": "https://localhost:8080/"
        },
        "id": "zQKEk0OAb6MC",
        "outputId": "38fa9390-574f-4305-8d8c-80f52a52431a"
      },
      "execution_count": 2,
      "outputs": [
        {
          "output_type": "execute_result",
          "data": {
            "text/plain": [
              "(tensor([[[1, 2, 3],\n",
              "          [4, 5, 6],\n",
              "          [7, 8, 9]]]),\n",
              " torch.Size([1, 3, 3]))"
            ]
          },
          "metadata": {},
          "execution_count": 2
        }
      ]
    },
    {
      "cell_type": "code",
      "source": [
        "# Indexing bracket by bracket\n",
        "print(f\"First square bracket:\\n {x[0]}\")\n",
        "print(f\"Second square braket:\\n {x[0][0]}\")\n",
        "print(f\"Third square bracket:\\n {x[0][0][0]}\")"
      ],
      "metadata": {
        "colab": {
          "base_uri": "https://localhost:8080/"
        },
        "id": "ky2Ov71_cOt8",
        "outputId": "b7c9ea88-3f27-42db-cc39-898278cf881e"
      },
      "execution_count": 4,
      "outputs": [
        {
          "output_type": "stream",
          "name": "stdout",
          "text": [
            "First square bracket:\n",
            " tensor([[1, 2, 3],\n",
            "        [4, 5, 6],\n",
            "        [7, 8, 9]])\n",
            "Second square braket:\n",
            " tensor([1, 2, 3])\n",
            "Third square bracket:\n",
            " 1\n"
          ]
        }
      ]
    },
    {
      "cell_type": "code",
      "source": [
        "# Get all values of 0th dimension and the 0 index of 1st dimension\n",
        "x[:, 0]"
      ],
      "metadata": {
        "colab": {
          "base_uri": "https://localhost:8080/"
        },
        "id": "GL1ncpwcb6Qn",
        "outputId": "a2c6b8d9-d405-4d20-c19b-3516b96d1375"
      },
      "execution_count": 5,
      "outputs": [
        {
          "output_type": "execute_result",
          "data": {
            "text/plain": [
              "tensor([[1, 2, 3]])"
            ]
          },
          "metadata": {},
          "execution_count": 5
        }
      ]
    },
    {
      "cell_type": "code",
      "source": [
        "# Get all values of 0th & 1st dimesions but only index 1 of 2nd dimension\n",
        "x[:, :, 1]"
      ],
      "metadata": {
        "colab": {
          "base_uri": "https://localhost:8080/"
        },
        "id": "vrUiuZ7fb6Xd",
        "outputId": "f927258d-0001-4c78-9825-a9645be2e4e5"
      },
      "execution_count": 6,
      "outputs": [
        {
          "output_type": "execute_result",
          "data": {
            "text/plain": [
              "tensor([[2, 5, 8]])"
            ]
          },
          "metadata": {},
          "execution_count": 6
        }
      ]
    },
    {
      "cell_type": "code",
      "source": [
        "# Create a tensor 3D of shape (2-blocks, 3-rows, 4-columns)\n",
        "tensor = torch.arange(1, 25).reshape(2, 3, 4)\n",
        "tensor\n"
      ],
      "metadata": {
        "colab": {
          "base_uri": "https://localhost:8080/"
        },
        "id": "qjCGLP0fhNlM",
        "outputId": "bd68287a-d39b-400b-f0a5-41965b99fa93"
      },
      "execution_count": 14,
      "outputs": [
        {
          "output_type": "execute_result",
          "data": {
            "text/plain": [
              "tensor([[[ 1,  2,  3,  4],\n",
              "         [ 5,  6,  7,  8],\n",
              "         [ 9, 10, 11, 12]],\n",
              "\n",
              "        [[13, 14, 15, 16],\n",
              "         [17, 18, 19, 20],\n",
              "         [21, 22, 23, 24]]])"
            ]
          },
          "metadata": {},
          "execution_count": 14
        }
      ]
    },
    {
      "cell_type": "markdown",
      "source": [
        "## Basic indexing"
      ],
      "metadata": {
        "id": "4g4Qpzy0jqib"
      }
    },
    {
      "cell_type": "markdown",
      "source": [
        "You can access tensor elements using three indices: [block, row, column]"
      ],
      "metadata": {
        "id": "7msRCIekkK5q"
      }
    },
    {
      "cell_type": "markdown",
      "source": [
        "### Accessing single elements"
      ],
      "metadata": {
        "id": "GzaaH9fAmxuG"
      }
    },
    {
      "cell_type": "code",
      "source": [
        "# Access the element at block 1, row 2, column 3\n",
        "element = tensor[1, 2, 3]\n",
        "element"
      ],
      "metadata": {
        "colab": {
          "base_uri": "https://localhost:8080/"
        },
        "id": "zBXqYAwxhNtr",
        "outputId": "e6848847-516e-4ab5-d227-8c6585b3faf4"
      },
      "execution_count": 16,
      "outputs": [
        {
          "output_type": "execute_result",
          "data": {
            "text/plain": [
              "tensor(24)"
            ]
          },
          "metadata": {},
          "execution_count": 16
        }
      ]
    },
    {
      "cell_type": "markdown",
      "source": [
        "### Accessing a specific row"
      ],
      "metadata": {
        "id": "iHiaRcBVnSS4"
      }
    },
    {
      "cell_type": "code",
      "source": [
        "# Access the second row of the the first block\n",
        "row = tensor[0, 1]\n",
        "row"
      ],
      "metadata": {
        "colab": {
          "base_uri": "https://localhost:8080/"
        },
        "id": "DPoa5u2mhN4B",
        "outputId": "17aa6462-afea-48bf-f107-559b5a93ae49"
      },
      "execution_count": 17,
      "outputs": [
        {
          "output_type": "execute_result",
          "data": {
            "text/plain": [
              "tensor([5, 6, 7, 8])"
            ]
          },
          "metadata": {},
          "execution_count": 17
        }
      ]
    },
    {
      "cell_type": "markdown",
      "source": [
        "## Slicing"
      ],
      "metadata": {
        "id": "8Tnd8JDgnuCC"
      }
    },
    {
      "cell_type": "markdown",
      "source": [
        "### Accessing a sub-tensor"
      ],
      "metadata": {
        "id": "T7SmatDGn5-B"
      }
    },
    {
      "cell_type": "code",
      "source": [
        "# Access rows from both blocks at index 1\n",
        "sub_tensor = tensor[0:2, 1, :]\n",
        "sub_tensor"
      ],
      "metadata": {
        "colab": {
          "base_uri": "https://localhost:8080/"
        },
        "id": "QC79gpbZnupQ",
        "outputId": "ef9395f8-84a9-4424-852d-a9d9191a726a"
      },
      "execution_count": 18,
      "outputs": [
        {
          "output_type": "execute_result",
          "data": {
            "text/plain": [
              "tensor([[ 5,  6,  7,  8],\n",
              "        [17, 18, 19, 20]])"
            ]
          },
          "metadata": {},
          "execution_count": 18
        }
      ]
    },
    {
      "cell_type": "markdown",
      "source": [
        "### Accessing all rows in a block"
      ],
      "metadata": {
        "id": "q_HUjPUwob_v"
      }
    },
    {
      "cell_type": "code",
      "source": [
        "# Access the first block\n",
        "block = tensor[0]\n",
        "block"
      ],
      "metadata": {
        "colab": {
          "base_uri": "https://localhost:8080/"
        },
        "id": "kFCEupAToa1m",
        "outputId": "5d88dc46-5af4-4789-f2a7-a086495173ad"
      },
      "execution_count": 19,
      "outputs": [
        {
          "output_type": "execute_result",
          "data": {
            "text/plain": [
              "tensor([[ 1,  2,  3,  4],\n",
              "        [ 5,  6,  7,  8],\n",
              "        [ 9, 10, 11, 12]])"
            ]
          },
          "metadata": {},
          "execution_count": 19
        }
      ]
    },
    {
      "cell_type": "markdown",
      "source": [
        "## Advanced Indexing"
      ],
      "metadata": {
        "id": "ZqN9q_6FoqVq"
      }
    },
    {
      "cell_type": "markdown",
      "source": [
        "### Boolean indexing"
      ],
      "metadata": {
        "id": "b546hSF-ou5_"
      }
    },
    {
      "cell_type": "markdown",
      "source": [
        "Create a mask to filter values"
      ],
      "metadata": {
        "id": "YuMq9v7eo7z8"
      }
    },
    {
      "cell_type": "code",
      "source": [
        "# Creates a mask for values greater than 15\n",
        "mask = tensor > 15\n",
        "filtered = tensor[mask]\n",
        "filtered"
      ],
      "metadata": {
        "colab": {
          "base_uri": "https://localhost:8080/"
        },
        "id": "GIFgJ9G_nuu3",
        "outputId": "0c8a410e-80ba-40e4-c802-eaae2304b060"
      },
      "execution_count": 20,
      "outputs": [
        {
          "output_type": "execute_result",
          "data": {
            "text/plain": [
              "tensor([16, 17, 18, 19, 20, 21, 22, 23, 24])"
            ]
          },
          "metadata": {},
          "execution_count": 20
        }
      ]
    },
    {
      "cell_type": "markdown",
      "source": [
        "### Indexing with lists"
      ],
      "metadata": {
        "id": "L5O6Zo68pCJZ"
      }
    },
    {
      "cell_type": "markdown",
      "source": [
        "Also possible to use a list of indices to access specific blocks, rows or columns"
      ],
      "metadata": {
        "id": "RrtsKg1RpdPK"
      }
    },
    {
      "cell_type": "code",
      "source": [
        "indices = [0, 1]\n",
        "selected_blocks = tensor[indices] # select both blocks\n",
        "selected_blocks"
      ],
      "metadata": {
        "colab": {
          "base_uri": "https://localhost:8080/"
        },
        "id": "ThKD3cCBpqEA",
        "outputId": "c6f1714b-a33d-45e6-e167-8524e05551b8"
      },
      "execution_count": 21,
      "outputs": [
        {
          "output_type": "execute_result",
          "data": {
            "text/plain": [
              "tensor([[[ 1,  2,  3,  4],\n",
              "         [ 5,  6,  7,  8],\n",
              "         [ 9, 10, 11, 12]],\n",
              "\n",
              "        [[13, 14, 15, 16],\n",
              "         [17, 18, 19, 20],\n",
              "         [21, 22, 23, 24]]])"
            ]
          },
          "metadata": {},
          "execution_count": 21
        }
      ]
    },
    {
      "cell_type": "markdown",
      "source": [
        "## Modifying tensors"
      ],
      "metadata": {
        "id": "yaOfFPV5qBlS"
      }
    },
    {
      "cell_type": "markdown",
      "source": [
        "### Changing a specific element"
      ],
      "metadata": {
        "id": "52fZvpMuqHVS"
      }
    },
    {
      "cell_type": "code",
      "source": [
        "# Change the value of block 1, row 2 column 3 to 100\n",
        "tensor[1, 2, 3] = 100\n",
        "tensor"
      ],
      "metadata": {
        "colab": {
          "base_uri": "https://localhost:8080/"
        },
        "id": "IQTvXXjjqMf4",
        "outputId": "8db11788-0e65-48ff-850a-61cf01e9d38c"
      },
      "execution_count": 22,
      "outputs": [
        {
          "output_type": "execute_result",
          "data": {
            "text/plain": [
              "tensor([[[  1,   2,   3,   4],\n",
              "         [  5,   6,   7,   8],\n",
              "         [  9,  10,  11,  12]],\n",
              "\n",
              "        [[ 13,  14,  15,  16],\n",
              "         [ 17,  18,  19,  20],\n",
              "         [ 21,  22,  23, 100]]])"
            ]
          },
          "metadata": {},
          "execution_count": 22
        }
      ]
    },
    {
      "cell_type": "markdown",
      "source": [
        "### Changing the entire row"
      ],
      "metadata": {
        "id": "6RsTBNXgqKtK"
      }
    },
    {
      "cell_type": "code",
      "source": [
        "# Modify the second row of the first block\n",
        "tensor[0, 1] = torch.tensor([99, 98, 97, 96])\n",
        "tensor"
      ],
      "metadata": {
        "colab": {
          "base_uri": "https://localhost:8080/"
        },
        "id": "AQ1hESNlqfKT",
        "outputId": "78167c91-60b0-421a-c0a7-db64dc507ef6"
      },
      "execution_count": 23,
      "outputs": [
        {
          "output_type": "execute_result",
          "data": {
            "text/plain": [
              "tensor([[[  1,   2,   3,   4],\n",
              "         [ 99,  98,  97,  96],\n",
              "         [  9,  10,  11,  12]],\n",
              "\n",
              "        [[ 13,  14,  15,  16],\n",
              "         [ 17,  18,  19,  20],\n",
              "         [ 21,  22,  23, 100]]])"
            ]
          },
          "metadata": {},
          "execution_count": 23
        }
      ]
    },
    {
      "cell_type": "markdown",
      "source": [
        "## Multi-Dimensional Indexing"
      ],
      "metadata": {
        "id": "jPKLjDGWq61M"
      }
    },
    {
      "cell_type": "markdown",
      "source": [
        "### Accessing all columns for specific rows"
      ],
      "metadata": {
        "id": "NC3l9Y4ZrIPo"
      }
    },
    {
      "cell_type": "code",
      "source": [
        "# Accesses the second row across all blocks\n",
        "rows = tensor[:, 1, :]\n",
        "rows"
      ],
      "metadata": {
        "colab": {
          "base_uri": "https://localhost:8080/"
        },
        "id": "Z2TSiL3rq7Ia",
        "outputId": "600d27c1-227e-4397-bb3a-4d8ef14f0a00"
      },
      "execution_count": 24,
      "outputs": [
        {
          "output_type": "execute_result",
          "data": {
            "text/plain": [
              "tensor([[99, 98, 97, 96],\n",
              "        [17, 18, 19, 20]])"
            ]
          },
          "metadata": {},
          "execution_count": 24
        }
      ]
    },
    {
      "cell_type": "markdown",
      "source": [
        "# PyTorch tensors & NumPy"
      ],
      "metadata": {
        "id": "pzBo0Hc5xGQF"
      }
    },
    {
      "cell_type": "markdown",
      "source": [
        "Two main methods used for numpy to pytorch and back are:\n",
        "- `torch.from_numpy(ndarray)` - numpy aray -> pytorch tensor\n",
        "- `torch.Tensor.numpy()` - pytorch tensor -> numpy array"
      ],
      "metadata": {
        "id": "cf8digh3xdnK"
      }
    },
    {
      "cell_type": "code",
      "source": [
        "# numpy array to tensor\n",
        "import numpy as np\n",
        "\n",
        "array = np.arange(1.0, 8.0)\n",
        "tensor = torch.from_numpy(array)\n",
        "array, tensor"
      ],
      "metadata": {
        "colab": {
          "base_uri": "https://localhost:8080/"
        },
        "id": "guMVEb86yBRL",
        "outputId": "b3491b34-6dc9-4fe2-ae84-2aa78f1b62b4"
      },
      "execution_count": 25,
      "outputs": [
        {
          "output_type": "execute_result",
          "data": {
            "text/plain": [
              "(array([1., 2., 3., 4., 5., 6., 7.]),\n",
              " tensor([1., 2., 3., 4., 5., 6., 7.], dtype=torch.float64))"
            ]
          },
          "metadata": {},
          "execution_count": 25
        }
      ]
    },
    {
      "cell_type": "code",
      "source": [
        "# change the array, keep the tensor\n",
        "array = array + 1\n",
        "array, tensor"
      ],
      "metadata": {
        "colab": {
          "base_uri": "https://localhost:8080/"
        },
        "id": "rYcFm3gNyk3u",
        "outputId": "0901b76d-7dd7-45ec-933e-42510b06bfcb"
      },
      "execution_count": 26,
      "outputs": [
        {
          "output_type": "execute_result",
          "data": {
            "text/plain": [
              "(array([2., 3., 4., 5., 6., 7., 8.]),\n",
              " tensor([1., 2., 3., 4., 5., 6., 7.], dtype=torch.float64))"
            ]
          },
          "metadata": {},
          "execution_count": 26
        }
      ]
    },
    {
      "cell_type": "code",
      "source": [
        "# Tensor to numpy array\n",
        "tensor = torch.ones(7) # Create a tensor of ones with dtype float32\n",
        "numpy_tensor = tensor.numpy()\n",
        "tensor, numpy_tensor"
      ],
      "metadata": {
        "colab": {
          "base_uri": "https://localhost:8080/"
        },
        "id": "WbQW__PIyxMF",
        "outputId": "cf92461c-d708-446d-e1e6-c3f501d14417"
      },
      "execution_count": 30,
      "outputs": [
        {
          "output_type": "execute_result",
          "data": {
            "text/plain": [
              "(tensor([1., 1., 1., 1., 1., 1., 1.]),\n",
              " array([1., 1., 1., 1., 1., 1., 1.], dtype=float32))"
            ]
          },
          "metadata": {},
          "execution_count": 30
        }
      ]
    },
    {
      "cell_type": "code",
      "source": [
        "# change the tensor, keep the array the same\n",
        "tensor = tensor + 1\n",
        "tensor, numpy_tensor"
      ],
      "metadata": {
        "colab": {
          "base_uri": "https://localhost:8080/"
        },
        "id": "CmbBX1hAzPTu",
        "outputId": "308abf04-11ad-4c8e-e928-b08b5f94e845"
      },
      "execution_count": 31,
      "outputs": [
        {
          "output_type": "execute_result",
          "data": {
            "text/plain": [
              "(tensor([2., 2., 2., 2., 2., 2., 2.]),\n",
              " array([1., 1., 1., 1., 1., 1., 1.], dtype=float32))"
            ]
          },
          "metadata": {},
          "execution_count": 31
        }
      ]
    },
    {
      "cell_type": "markdown",
      "source": [
        "# Reproducibility (trying to take the random out of random)"
      ],
      "metadata": {
        "id": "m4sP7Evcz36u"
      }
    },
    {
      "cell_type": "markdown",
      "source": [
        "- To control randomness thus enehance reproducibility, i.e.get results of similar flavour from randomness, `torch.manual_seed(seed)` is used.\n",
        "- `seed` is an integer e.g. 7 that flavours the randomness"
      ],
      "metadata": {
        "id": "JU_NzdKY0Pql"
      }
    },
    {
      "cell_type": "code",
      "source": [
        "import random\n",
        "\n",
        "RANDOM_SEED = 7\n",
        "torch.manual_seed(seed=RANDOM_SEED)\n",
        "random_tensor_c = torch.rand(3, 4)\n",
        "\n",
        "# Have to reset the seed every time a new rand() is called, Otherwise tensor_d would be different\n",
        "# to tensor_c\n",
        "torch.random.manual_seed(seed=RANDOM_SEED)\n",
        "random_tensor_d = torch.rand(3, 4)\n",
        "\n",
        "print(f\"Tensor c:\\n{random_tensor_c}\")\n",
        "print(f\"Tensor d:\\n{random_tensor_d}\")\n",
        "print(f\"\\nDoes Tensor c equal Tensor d? (anywhere)?\\n\")\n",
        "random_tensor_c == random_tensor_d"
      ],
      "metadata": {
        "id": "2Yyaf2Z50QNe",
        "outputId": "349e363f-1048-4343-c306-73054b514067",
        "colab": {
          "base_uri": "https://localhost:8080/"
        }
      },
      "execution_count": 34,
      "outputs": [
        {
          "output_type": "stream",
          "name": "stdout",
          "text": [
            "Tensor c:\n",
            "tensor([[0.5349, 0.1988, 0.6592, 0.6569],\n",
            "        [0.2328, 0.4251, 0.2071, 0.6297],\n",
            "        [0.3653, 0.8513, 0.8549, 0.5509]])\n",
            "Tensor d:\n",
            "tensor([[0.5349, 0.1988, 0.6592, 0.6569],\n",
            "        [0.2328, 0.4251, 0.2071, 0.6297],\n",
            "        [0.3653, 0.8513, 0.8549, 0.5509]])\n",
            "\n",
            "Does Tensor c equal Tensor d? (anywhere)?\n",
            "\n"
          ]
        },
        {
          "output_type": "execute_result",
          "data": {
            "text/plain": [
              "tensor([[True, True, True, True],\n",
              "        [True, True, True, True],\n",
              "        [True, True, True, True]])"
            ]
          },
          "metadata": {},
          "execution_count": 34
        }
      ]
    },
    {
      "cell_type": "code",
      "source": [],
      "metadata": {
        "id": "-GLaputZ0Qax"
      },
      "execution_count": null,
      "outputs": []
    }
  ]
}